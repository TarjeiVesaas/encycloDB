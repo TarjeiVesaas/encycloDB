{
  "nbformat": 4,
  "nbformat_minor": 0,
  "metadata": {
    "colab": {
      "provenance": []
    },
    "kernelspec": {
      "name": "python3",
      "display_name": "Python 3"
    },
    "language_info": {
      "name": "python"
    }
  },
  "cells": [
    {
      "cell_type": "markdown",
      "source": [
        "# Estructura de un programa en Python\n",
        "\n",
        "En esta práctica presentamos cuál es la estructura básica de un programa escrito en Python, así como los mecanismos para traducir a Python los algoritmos que se realizan en clase de teoría. También servirá para ejercitar la composición secuencial de acciones. Es primordial que al final de esta sesión sepas cómo traducir a Python un programa escrito en seudocódigo y cómo escribir programas secuenciales.\n",
        "\n",
        "## Estructura básica de un programa en Python\n",
        "La estructura básica de un programa escrito en Python es la que puede a continuación:"
      ],
      "metadata": {
        "id": "dT7EfSXLITZo"
      }
    },
    {
      "cell_type": "code",
      "execution_count": null,
      "metadata": {
        "id": "JpZB5Mq2HA3R"
      },
      "outputs": [],
      "source": [
        "\"\"\"\n",
        "definiciones de funciones\n",
        "\"\"\"\n",
        "\n",
        "def main():\n",
        "   var_1 = 0        # declaración de las variables\n",
        "   var_2 = \"Hola\"\n",
        "\n",
        "   ...              # cuerpo del bloque principal\n",
        "   ...\n",
        "\n",
        "if __name__ == '__main__':   #inicio del bloque principal\n",
        "    main()  # llamada a la función main()"
      ]
    },
    {
      "cell_type": "markdown",
      "source": [
        "Sobre esta estructura podemos hacer las siguientes observaciones:\n",
        "\n",
        "### Cómo comienza\n",
        "Casi todos los programas en Python comienzan habitualmente por una serie de sentencias \"*import*\". Estas órdenes son librerías que van a incluir nuestro programa, y constituyen una ayuda para el programador, dándonos funciones que no están en dentro de las funciones básicas de Python, por ejemplo alguna función matemática.\n",
        "\n",
        "### El bloque principal\n",
        "\n",
        "El bloque principal es el punto de entrada a nuestro programa Python. El bloque principal comienza con la línea:\n",
        "\n",
        "*if \\_\\_name\\_\\_ == '\\_\\_main\\_\\_':*\n",
        "\n",
        "La principal diferencia es que al estar usando los cuadenos de Jupyter no vamos a necesitar usar este bloque principal. Iremos creando los diferentes algoritmos en celdas diferentes para ir usando las funcionalidades que vayamos creando.\n",
        "\n",
        "### Bloques: la indentación\n",
        "\n",
        "Un bloque es un conjunto de sentencias (instrucciones) consecutivas en Python. Para crear un bloque basta con indentar las sentencias dentro del mismo nivel. La primera instrucción en el nivel de indentación marca el comienzo del bloque de sentencias, el final del bloque lo marca la última sentencia dentro de ese nivel de indentación. La correspondencia de los niveles de indentación es muy importante.\n",
        "\n",
        "Uno de estos bloques (en general, no es el único en un programa) es el bloque principal, que acabamos de comentar y que has podido ver en el cuadro del esquema básico de un programa.\n",
        "\n",
        "### La zona de declaración de variables\n",
        "\n",
        "Python permite dar valor a las variables en cualquier lugar del programa. Sin embargo, nosotros vamos a intentar siempre que sea posible darle valor a las variables al comienzo del bloque principal. Hablaremos un poco más sobre ello cuando trabajemos con funciones.\n",
        "La declaración de variables debe ajustarse al siguiente formato: nombre de variable, espacio en blanco, valor inicial de la variable.\n",
        "\n",
        "*nombreDeVariable valorInicial*\n",
        "\n",
        "Los tipos pueden ser los predefinidos por el lenguaje o los que el usuario define en la zona de definición de tipos de usuario. Los tipos predefinidos son los siguientes:\n",
        "\n",
        "\n",
        "*   Entero: int\n",
        "*   Carácter: char\n",
        "*   Real: float\n",
        "*   Lógico: bool\n",
        "*   Sin valor: void\n",
        "\n",
        "Aunque en Python, como ya hemos comentado, los tipos se infieren automaticamente dependiendo del valor que se guarde dentro de la variable (podremos forzar los tipos si así lo deseamos). Además a lo largo del algoritmo, la variable puede tener diferentes tipos en función del dato que esta guardando. No es recomendable cambiar los tipos de las variables, mejor usar variables distintas.\n",
        "\n",
        "### Los identificadores\n",
        "\n",
        "Los identificadores son los nombres que daremos a los objetos (constantes, variables...) en nuestro programa. Deben cumplir una serie de reglas para que sean válidos:\n",
        "*   Pueden contener letras, números y caracteres de subrayado ( _ ). Deben comenzar por una letra.\n",
        "*   No pueden contener espacios en blanco.\n",
        "*   No deben sobrepasar una longitud máxima. Esta longitud es variable.\n",
        "\n",
        "### Los comentarios\n",
        "\n",
        "Los comentarios son textos que se insertan a lo largo del programa para servir de aclaración al programador. Quizás, cuando uno se inicia en la programación el empleo de comentarios parezca superfluo. Sin embargo, ponte en el lugar de alguien que escribió el código de un programa hace unos cuantos años y trata de reformarlo. En este caso los comentarios son realmente útiles ya que añaden legibilidad al código.\n",
        "\n",
        "Los comentarios se deben encerrar entre estos caracteres:\n",
        "\n",
        "*   Comienzo de comentario: \"\"\" o '''\n",
        "*   Fin de comentario: \"\"\" o '''\n",
        "\n",
        "Por ejemplo:\n",
        "\n",
        "\n",
        "```\n",
        "\"\"\" Este es un comentario válido\"\"\"\n",
        "```\n",
        "\n",
        "y\n",
        "```\n",
        "'''Este es otro comentario válido'''\n",
        "```\n",
        "\n",
        "O bien comenzando el comentario con #, Python considera comentario el texto que vaya hasta el fin de línea. Por ejemplo:\n",
        "\n",
        "```\n",
        "#Este es un comentario válido de una línea\n",
        "#Este es un comentario válido\n",
        "#de dos líneas\n",
        "```\n",
        "\n",
        "### Sobre las mayúsculas y las minúsculas\n",
        "Python es un lenguaje **SENSIBLE** al uso de mayúsculas o minúsculas en los identificadores y en las palabras clave. Por ejemplo, los siguientes identificadores son **DIFERENTES**: contador, Contador, CONTADOR, conTAdor...\n",
        "\n",
        "\n"
      ],
      "metadata": {
        "id": "Q4x_6xWVLWf2"
      }
    },
    {
      "cell_type": "markdown",
      "source": [
        "## Traducción de seudocódigo a Python. Un ejemplo.\n",
        "\n",
        "Consideremos un ejemplo de programa realizado en seudocódigo para su traducción a lenguaje Python. A través de él iremos dando las pautas de traducción, que ampliaremos en sucesivas prácticas conforme se vayan introduciendo nuevas estructuras de programación. En este ejemplo solamente se considerará la composición secuencial de sentencias. El problema es el siguiente:\n",
        "\n",
        "*Calcular el volumen de un cilindro dada su altura y el radio de la base.*\n",
        "\n"
      ],
      "metadata": {
        "id": "kW3kT1M9CA59"
      }
    },
    {
      "cell_type": "markdown",
      "source": [
        "**Solución en seudocódigo**\n",
        "\n",
        "**Entradas:**\n",
        "\n",
        "Radio de la base y altura (ambos valores reales mayores que cero)\n",
        "\n",
        "**Salida:**\n",
        "\n",
        "Volumen del cilindro\n",
        "\n",
        "**Algoritmo** Cálculo Volumen Cilindro\n",
        "\n",
        "**constantes**\n",
        "\n",
        "PI = 3.14\n",
        "\n",
        "**variables**\n",
        "\n",
        "real r, h {entrada}\n",
        "\n",
        "real vol {salida}\n",
        "\n",
        "real base\n",
        "\n",
        "**principio**\n",
        "\n",
        "leer (r,h)\n",
        "\n",
        "base = PI*r*r\n",
        "\n",
        "vol = base * h\n",
        "\n",
        "escribir(vol)\n",
        "\n",
        "**fin**\n"
      ],
      "metadata": {
        "id": "-H3WDr_cDryN"
      }
    },
    {
      "cell_type": "markdown",
      "source": [
        "Traducción a Python\n",
        "\n",
        "Para la traducción seguiremos el siguiente esquema:\n",
        "\n",
        "Algoritmo Nombre Algoritmo\n",
        "\n",
        "constantes\n",
        "\n",
        "unaConstante = unValor\n",
        "\n",
        "...\n",
        "\n",
        "variables\n",
        "\n",
        "unaVariable = valor_inicial\n",
        "\n",
        "otraVariable = valor_inicial\n",
        "\n",
        "...\n",
        "\n",
        "principio\n",
        "\n",
        "instrucciones\n",
        "\n",
        "fin"
      ],
      "metadata": {
        "id": "P_3wqX8DEG6H"
      }
    },
    {
      "cell_type": "markdown",
      "source": [
        "```\n",
        "if __name__ == '__main__':\n",
        "  unaConstante = unValor\n",
        "\n",
        "  unaVariable = otroValor\n",
        "  ...\n",
        "\n",
        "  instrucciones\n",
        "```\n",
        "\n"
      ],
      "metadata": {
        "id": "As1qmcPOIXGN"
      }
    },
    {
      "cell_type": "markdown",
      "source": [
        "### Traducción de las palabras reservadas\n",
        "\n",
        "Las palabras reservadas que utilizamos en seudocódigo deben traducirse por sus correspondientes en Python. Aunque en Python no existe palabra clave para algunos de los términos del seudocódigo (variables...), sí que debes respetar un cierto paralelismo entre las dos estructuras, como puedes ver anteriormente. Vale la pena resaltar un comentario realizado en apartados anteriores: Los identificadores no pueden contener espacios en blanco. Se recomienda poner especial atención durante su traducción.\n",
        "\n",
        "Las sentencias serán iguales a las de seudocódigo. La única precaución a tener en cuenta es que los tipos (para la definición de las variables) y algunos operadores se escriben de distinta forma que en seudocódigo. Para su traducción adjuntamos la siguiente tabla (recordar que los tipos en Python se infieren automáticamente y no hay que indicarlo al declarar la variable):\n",
        "\n",
        "![Captura de pantalla 2024-09-06 121043.png](data:image/png;base64,iVBORw0KGgoAAAANSUhEUgAAAocAAAFiCAYAAACEdXJOAAAAAXNSR0IArs4c6QAAAARnQU1BAACxjwv8YQUAAAAJcEhZcwAADsMAAA7DAcdvqGQAADVeSURBVHhe7d1/jFXnnd/xZ9pmXW/srp0sE5aBAMs6lWJw6QxsmC0JabCJK3V+lLIyqDZGMUkqvICRtjKLcO9MjQhR/jCGxYoc4iXgCqxl0XCpVIpNahK6QxZmSg2OVHtngfBjJ0MSe9fOut60mt7Pmef7zDPH986Pew/D/Hi/pKN7z497zpnhfM/zPd/nuUPVzy5f7v27X/zC/fq99zoA2fnb7u4krv7RHXf4JQAq9X8//ND93TvvuH8ydapfAiALiqtf/8Qn3CdnznRV31qypPftU6f8KgAAAExG9y1Z4v7w9dddVT6X6+3c8Zz77Mer/SoAWTj97hV3fyGu7v3YnX4JgEq986sP3Ju/7HGL75nplwDIwo8LcVW7eZNraGlx/8AvAwAAAEgOAQAA0I/kEAAAAAHJIQAAAAKSQwAAAAQkhwAAAAhIDgEAABCQHAIAACAgOQQAAEBAcggAAICA5BAAAAABySEAAAACkkMAAMapf/Gfv+1+/+dvu3/+zf/olwCVqyg5bHr7bHJR2qT5seg36xeM6fMD5L6vrR4QT+lJ68Xmb5cv/bc/TY5PY4Txxq7deFL7MNb9q7OvJudq94DYtIeXuhvHT7r/+fR/8kuAypWVHFqy9WufuMcv6aP5UhcwgGz86SfvSyYAw6fiwCcXzPdz/f7lfzmYVN/Gsv+68KEk5t9+cb9f0k/L/8e/+/d+DshGWcnhwl3fSF7f/6vLoaHS9PNz55Pln/0P65NXsaczK31r0tNbLP00F7PqpD056TVeblM6uG17Tf/0D9b6pQOl9xGLj6dXqo4YLem4sskahvT1ag9rNsWxYLEVx59dy3Hc2QNdXGWP1w/VeKqKaNsOZ3tgNOl6tGJGHFN/ufdAskzVN6sg2j2/WMyY9PUeF0QsbuI2KF5uk9bH0vuMK/O2r2LHsSleZ+eu17ido3CD4RpxcqgAuuu3ZyXv9TQT+/6Xf9/9/S/eTYIwfREq+Iye3qzx0Gv6aa5YImbH/Nu3upKgSFcttX87ptbb9hIf2yhQ0vvQMrtBGNvPe4UGGxiLVPmI6XpPd/nGMaDrXjEWx938bzzj3/XRNvH6Yvs0iuHfWfuYn+uj7RWHwFjwm79bl7ye/6Nnk1ejrlgraqSLCOmYsWRO7Uz6elf8lGo79LCn2Em3c1pv7aDWp/ep+VLJnM4lvT+dQ7G4j9u5uHADDGbEyeG98z6bvOqCL8aSqLvm9Cdnoie0+EnNgtUC0J7kNHZCF3P6ItdyrVf5XEmoba/JgtuOaUHz3//1qrDPmAVkXKGxfTzQ8nTyarRc63VMYDSo0bAnfZuKPTCJXcsWH5rk08sbkldj17rFn2LM4sOkGzc1pFpv8TP1S59PXtMshm177VcUh+l9AreDJUjFumXfOX8heb3jNz+ZvBq799v1rLjU9fw7X+1L4ux6t4Qz3XZYzKmIoiRU722yOLRjWmyl28kZ/3ZgHIsSRks80/tLx72KNVpvP0OcKAKDqegLKcOlC9QGy+rVqotxw2GNoDU0vz59WvJq/vcf7/Xv+qlh1GfiJyjbpwLzZ+3nkvfpz1pA/uV3+gJK3mj5ZvJ6Ryp4rv7ZMf8OGHvsWlbcWAxJuhHo/v4Pk9f3u/oe3uL4UDymab01pDae6dfu+WjDEsebba/92sOWPUwC4421Cenr2eJAlTrFm1Xd022HxVxMiZ0+k64S2j7jdlJJXbGihBVB4qJH3K7GfvYXHX2vhZ/B4pwHNgzHiJPDdy78OHm1J5e0u/1ya4TKlX6Ki9lYi7+7diMJIAtcYCKwikM8Hb1voV87fDQCQB9LjIp10947f17y+uHPfp68lqvYw5NRT5jaLFUCFc9W6QPGqhEnh3oCUeMl6a4ujYPQk4sCMS7fa5l1Eys4bZu4cpFuDAfrxrVKoT1lWUIqtk/rApD0WBK7CVj3gFiXwIf+JgKMB3YtW3dUPFkslEPxYw2pxe7fv/vR2IjjzbZX3FmM2sMkcDtZBS09NlC9T3atpnuY4m7i+Hq2OLBhGTYN9gBn3cbWE2UJqbF9xu2kksliw0ms8GK9bKLPWbsKZKGsbuWzG/4oedXFqAvYJqsm/vhbu5PXmMro2sZK8Basqvql96Op2BNemm2rz8eskqiB+lofB5FYN5nO1/Zhwc/YQtxu8XUZTza+MGYNmsWXTelvQpbDus2sC6xYN5lY95Ztb1+Q0fJKElQgK7rnW+Jk7YImaxuKXatqE2w7saEYFgfxfjQVi880ixFrb4ztM91O/uTIR4c1qfBiBRo7tsVosbYXKEdZyaECRE9K6acUqwAWG/Qbj49Q8mYJmpKxdLewBvgW24exAcCiILF5exrTPi14JD62KXb+WgaMJ4pFG2xudO2n/5LASCk24rhUDFmlPk2xnO4m0/YW48BYoMpeuq0RxU+xazVuNxQPFlOKg5Fe7+l4tLbGer1K7bNUzGl/I203gZGoyudyvZ07nnOf/Xi1X5QtPdUIiRcmm9PvXnH3F+Lq3o/d6ZdkQzGlxqqccYhDUZebKiK3av9Apd751QfuzV/2uMX3zPRLsqWqu6r3JFuYbH5ciKvazZtcQ0vL6HxbGUDlbFC7FBv/BwBAFkgOgXEiHsQe/xkmAACydMu7lYHJ6lZ1KwOT2a3uVgYmK7qVAQAAUBTJIQAAAAKSQwAAAAQkhwAAAAhIDgEAABCQHAIAACAgOQQAAEBAcggAAICA5BAAAABB1aGNG3vfeOE7buY/vtcvApCFC+//1M2+8x531z+8wy8BUKn3/9+H7tIH77p5d33KLwGQhSv/5x33wLqvukd27nRVO7/85d6uH/7Qffyee/xqAFl496c/TeLqY3eQHAJZ+dWHH7pfvvuuu+dTJIdAlhRXcz7/ebfx+PG+/1u5p7PTrczl/GoAWdjW2OhWFeJqTl2dXwKgUl0dHe5ga6vbms/7JQCycKgQV9W1tfzfygAAABiI5BAAAAABySEAAAACkkMAAAAEJIcAAAAISA4BAAAQkBwCAAAgIDkEAABAQHIIAACAgOQQAAAAAckhAAAAApJDAAAABCSHwARx+MQJN6+52c8BAFAekkMAAAAEFSWHVCqAbD23f7+7a8GCAVMxWt5+/ryfG+ipHTvCZ7U/YLK7dP16iAlNihGj9/G8bWvxZXFkn7U2z+Y16TMmjj9NtJEYj6gcAmOEHrae2bXLvX/uXJgkbriGcunateRVn71w9GiyP+0XmMwan3zS7du+PcTV3sOHRxQXLx05Ej6rGFPSp/jS/NoVK9wmH6NKIk+eORO21Tbanoc0jDckh8AYsWLZsqRBiT1YX+/fDd/OzZuT19k1Ne7ZDRvcy8eOJfPAZGUPTUZxpngbrty6df5dX0wqIVR8yeLaWtd19WryftPq1e5CW1vyXrTN7OnT/Rwwfow4OYzL82u2bAlPUZpGUuEAUJy6syymXmtv90uda16/PiyXh9auHTAv6WRyxtSpoeECJis9JKm9UqwojkaqprravxseVSUtNtOJKTAejDg51JOQlcxVptdTkc1bxQLAyFlSqKTv1b17k5iKk7223btDrIltY/MAilNFT3GimNEDl+LsVnT1WlKoRNS6nakcYjyiWxkYI145fjzprlKDUj9/vl86Mukq4dXubjdnxgw/B0xuiivFlyqJp86e9UuzoyEc2neSFPpuZ2A8IjkExpDL0bceVdmIu5WHIx78riEg+kLKow0NyTwwGdlQqPgLKEoMZ/nkbea0ackXVMzzBw74d+W5cuOGf9f3ZTK6lTEeVZQcakBvPPgWQPk0LEOVPzVkmtTIqAqhbz+mlaouqgtLn9Pn5zU1JUM/RjLwHphoVMFTd7KNOdQkNgxKXc4avmHr9AWTcmnohxJN25cST/UG3IoqJXArVeVzud6ezk63MpfziwBkYVtjo1tViKs5dXV+CYBKdXV0uIOtrW5rPu+XAMjCoUJcVRcejhpaWuhWBgAAQD+SQwAAAAQkhwAAAAhIDgEAABCQHAIAACAgOQQAAEBAcggAAICA5BAAAAABySEAAAACkkMAAAAEJIcAAAAISA4BAAAQkBwCAAAgqPqTxx/v/Ul7u5v7xS/6RQCy8IODB93cJUvcJ6ZN80sAVOoXN264i6dOuS+sWuWXAMjCxddfd5+ur3dr9u1zVXuamnovnT7tpsya5VcDyMKVixdd9cyZ7s677/ZLAFTqg/fecz1XrriZc+f6JQCycPPyZTd78WK3rq3NVeVzud6ezk63MpfzqwFkYVtjo1tViKs5dXV+CYBKdXV0uIOtrW5rPu+XAMjCoUJcVdfWuoaWFsYcAgAAoB/JIQAAAAKSQwAAAAQkhwAAAAhIDgEAABCQHAIAACAgOQQAAEBAcggAAICA5BAAAAABySEAAAACkkMAAAAEJIcAAAAISA6BcWxec7M7fOKEnwNwq7WfP+/uWrDAzwETE8khAAAAApJDYAx5bv/+pCoRT0O52t09ou2ByeapHTuSyWLk0vXryXJV3m1Z8/r1yTKjeVunSVQ1fGjt2uS9lmle0tum9wWMNySHwBih7uFndu1y7587FyZRozYYfebC0aPJ9mtXrEgaPAAD7T18OMTJ7JqaJE6+snx5iLVZhWWW1OkhTWyd4krr6ufPd6/u3RvWad7i07bV+tfa2xnugXGN5BAYI1YsW5Y0LrEH6+v9u9Ke3bAhaexk5+bN7tK1a6GiAaCPYsnixOJj0+rVyatsfOyxJKlTVfHKjRt+aR/FVdvu3X5uoPQ6JYzAeEdyCIwxNuBdkxqroSx64AH/rs/s6dPd9Z4ePwdAVBk0Z954I3mIiruC5zU1Jeu6b94MiaKts27owcRDQoDxbsTJYXpMFKVzIBuWFGpMk7qmVEW0yqEapzjuGNMEVEaxZV3B8aTKnyqMNq+HLSWOpYZrWJsYDwkBxrsRJ4cqw1sAaFJXGIDKvXL8eDK2SXGV7pqKGytNcTdWukqoikhNdbWfA5A2Y+rUYVXl5UJbWzJWUXFVrIL40pEjbt/27UlcAhMF3crAGHI5anxUkRhOA7Zmyxb/ru/LK6p0MO4JKE1FDcVJXIFXL5gqgEoAtTxe1/Hmm8mrjVlM018MMFT1MRGQHAJjhAa2d129GrqONSheXzY5eeaM36I4bWOf0baqdAAYnOIkjjc9ZKn6pwRQlfn0OlUPJel2LiSWWq6hIPk9e5IuZdv20YaGpMv6dGdnsj0wHlXlc7nensJFvDKX84sAZGFbY6NbVYirOXV1fgmASnV1dLiDra1uaz7vlwDIwqFCXFXX1rqGlhYqhwAAAOhHcggAAICA5BAAAAABySEAAAACkkMAAAAEJIcAAAAISA4BAAAQkBwCAAAgIDkEAABAQHIIAACAgOQQAAAAAckhAAAAApJDAAAABFUvPvJI75U//3M3e/58vwhAFv7XyZPutwtxdfcnP+mXAKjUez//ufur8+fdP1u61C8BkIVLhbia+Xu/57566JCr+pPHH+/9SXu7m/vFL/rVALLwg4MH3dwlS9wnpk3zSwBU6hc3briLp065L6xa5ZcAyMLF1193n66vd2v27XNV+Vyut6ez063M5fxqAFnY1tjoVhXiak5dnV8CoFJdHR3uYGur25rP+yUAsnCoEFfVtbWuoaWFMYcAAADoR3IIAACAgOQQAAAAAckhAAAAApJDAAAABCSHAAAACEgOAQAAEJAcAgAAICA5BAAAQEByCAAAgIDkEAAAAAHJIQAAAIJMk8P28+fdvOZmP1e+S9evu7sWLEheRe+173LpnA6fOOHnSsvq/AEAk4/amcHakKd27EimLDy3f/8taa+G215iYss0OfxaS4vL79nj58o3u6bGvX/uXPKahQttbW7FsmV+rrT6+fPdV5Yvzyx4AQAwOzdvTqaxbLjtJSa2zJJDPcUsXbQoJHTpJySrBloFUE8n+oyW2WSVwrhyqFd5aO3aZHtJf862Ea3TcW25VQPjJ6Hm9evD+vST16bVq93ew4fDuQC3m65Ru1418fACjFyp9kYGizHNx5+1NsPmNaXbi7gNsnZLtDze92DnVEy87ZUbN/zSPmrr4vWDVf/S28bnmG4v49+Nna+Jl9kUG8k5YWzJLDl86cgR98jDD/u54Xlm166kQqhp7YoVblORRk/r5NW9e5PETRdX/DlbHweckjttr3WqBsaUGIp9ds6MGWGZ0bm0nTzp54DbR9emHrrset23fXtyfdtDFoChKYGJ241nN2xwjU8+mawbToypfbP1l65dSxKdC0ePJvPptkvrReu0jY5bLCkqdk7zmpr82o/SMbWN7VfnaHSuKqDYOWlas2VLyWRM21obaedY7J6i343aSNuntkuLfzcP1teHttjOyY6jV50T967xIZPkUE87CoipU6b4JcOjC90srq11XVev+rnSVO7WhRbTBRmbPX36R5JC0Xm+1t7unovK+nqvZfEFq3PRBQ/cbm27dw/ohqq7/37/DsBw6X6upM+o0GBDoIYTY7l16/y7vvZGCaH1khVru2x/2kbt3MvHjiXzsWLnpLYrruIZJXlap21E+9U5mFeOH0+OEw/FKnXcdHVSn1Gbmm4zi7WX8fma+HezZOFCd9nvX+ekc7T96lXz3/zud5N5jG2ZJIcdb76ZXLjxhTkcM6ZO9e/62BPXcCiZs1K1LuCYnnSK6b55M3mNz1Pvde7Xe3r8EudqqqtHdC7ArWbdVINVFgAUp/u57uuxdHs1WIylPzuYdLFC7Vyxwkexc1IFM91dLFe7uz/SrikpNSfPnEmqetYmatJ8sePq51aSpqqetot73WLF2stiv4f0MjumksSZ06Yl781wi0C4/UacHKbHF4z2GAJLCuNydToYszLU+A8gS+lxT2INlm7+utbVBQQgOxMlxlTV0/nHk75cUowqm1pvXej6+Ue7LcfYNuLkUGXt+OIb7W81Walaxy7WdTwY6/aOkz69L/YEJ+knS+BW0o08ji2x8bOlbvIAhpbuHYplHWPpylixqp8UOyclqOlqm6j6mO4h036N9n+6s9PPDZ8N01Kbmv58sfay1O+wmFmF9jNdBdUxSvXsYWzJpFtZYzSUYMUXkS7weMDs8wcO+HeVszENokpmOmhKUbKnKmM8eFjvtSxONBUAClxgLIhvyDaIHsDw6U+Utb7wgp/r74GyNivLGFNbaOMGtX917z7a0JDMx3RO+oKG0Wf0WRtXGFMSpzYpvV/z9BNPJO1tXP3Tl0nSX7YU+9njcfbFktJi7WV8vkPRF1R1TnYcvWpe54qxL5PkUBeRLlyNPTS6wHVh6SLUFI+PGCkbH6HAUDlcT2a2Xz2ZaOCtLu7h0OBjsc+LLTN6ulHgArebfcPPrtcXW1qSWDvzxht+CwBDUXuke7rFkdoTdR+r7co6xvRZtUval8Yvquu2WA+bzkltlx1XyZ71GBSjyqaNK9R+1S4aFTfSP4cqd+m2TbStzsnGHGrSWMdiSak+H7e3Ot/hsnOy49hQsJH2+OH2qMrncr09hWRoZS7nF5VHTyxKquJvfY1XupDtxgGUa1tjo1tViKs5dXV+CYBKdXV0uIOtrW5rPu+XYLSonVcFlmEuE9OhQlxV19a6hsIDUiaVQ9GTkap3cdfyeKTqpJ7ISAwBAJOV2nIVSuKuav1pHFUZMfFllhyKyvHjeUyUxkSobD8Rqp8AAJRLBRJ1P6e7qmkfJ4dMk0ONJRjP5Wad/2BjPgAAmCzs28w2kRhOHpkmhwAAABjfSA4BAAAQkBwCAAAgIDkEAABAQHIIAACAgOQQAAAAAckhAAAAApJDAAAABCSHAAAACEgOAQAAEFTtaWrqvXT6tJsya5ZfBCALVy5edNUzZ7o7777bLwFQqQ/ee8/1XLniZs6d65cAyMLNy5fd7MWL3bq2Nld14Otf773+ox+5321q8qsBZOHY88+7zxXiqpoHLyAzPYUG7EdHj7qGjRv9EgBZ+ItCXNV87nPu0W9/21Xlc7nens5OtzKX86sBZGFbY6NbVYirOXV1fgmASnV1dLiDra1uaz7vlwDIwqFCXFXX1rqGlhbGHAIAAKAfySEAAAACkkMAAAAEJIcAAAAISA4BAAAQkBwCAAAgIDkEAABAQHIIAACAgOQQAAAAAckhAAAAApJDAAAABCSHAABMUnctWOCa16/3c0CfspPDp3bscIdPnPBzAEZD+/nzA27kl65fT27uegVw66ndm9fcnLxPx1+8bihqQzUNZbjbDUXnlW6zn9u/361dscK17d7tlwB9RpwcqnFSMMjpzk4aJmCU6Ob+yvHjblZNTRJ3urEDGDtWLFvmLrS1+bnB7dy8OZlGi85L5xdrXrp0VM8B48eIk8OpU6a498+dcyfPnHGXC0mh3s8uNFYAKqeET4lfPJn8nj1u5rRpbu/hw+7C0aNu0+rVfo1zbSdPhu3pIgIGsuqbHrAsTlTo0DKbjx+2bL3RunRFUEWReU1NyXu9qioXVw6tkBLHdFwBtHMy+qxtpyk+fkzxHW+Xjvf4Z9Jk0pVDbafzTm8nmk/fizC5jDg5VCKoiyy3bp1bsnAhDRGQEd24n9m1K3ngskmsAVECeOrs2SQx1E09rti/dORI+EzX1asDGh0ALnmoerGlJYkRdaU+tHZt8rCl+Vf37k1ibyS9YGoLFYui13RVzihmLTZ1DnESahT7a7ZsSfaj7fZt356cX5rFte1P5/1ae3tI+rRehRtbr5+zWBtdbLt08hvfUx6sr+eeMsmUNebQytOqXDBWAciGYko34phuysbiTY2Stosr9mr0jN6rEQLQT7FUP39+8n5xbW3yatV3W95982bymqXnom5bJX1KutJePnbMPbthQ4hpuxekk1V1Acdtrp23sQTYaPv4+KbYdpeuXRtQWVQByKgQpJ5CTB5lfyEFwK1h3VGaVBUYjriR0NAPYSww0E9jdUfb7OnTBzzE1VRXJ0lYmqr9M6ZO9XP94s/G4i5fY/Fu8W/S+yi1nZLnq93dfq7vXGM6R0weJIfAGGFJobqT1F1k3TkAIJYUxsNPgFuB5BAYI/RNZI390Q0/3V00lLhKaF1jpaoOAEZHukp4vacnqSamzZkxY0DVrhR1SatrulhSaPE+VNd4qe3US1GseonJieQQGEPicT2qEgy3W3lTNFj8ay0tSZIJoDxK4PSwZlSpK1f8RQ596eQry5f7uX6PNjQMOIYe9lQhLPaN5TiJTH/ZRHH/ze9+18/1fwM6TdvpPmF0jvqZS32pBpMPySEwRmhQuMb16Gau6cqNG8kgdX2rcCgaMG6fW7poEX+7DKiA/myUvrRhMaVqXTGqwmnoh/0pm1JsP4rn+E9QGSVlOoZtp/1paEm6B0HnpSTStlNSqePrbw6L4t7+DqomJaPFqozaTvcJ2073mOH+fUZMDlX5XK63p3Bhrczl/CIAWdjW2OhWFeJqTl2dXwKgUl0dHe5ga6vbms/7JWOTqn4aP8y4QIwXhwpxVV1b6xpaWqgcAgAAoB/JIQAAAAKSQwAAMqbxgnQpY7wiOQQAAEBAcggAAICA5BAAAAABySEAAAACkkMAAAAEJIcAAAAISA4BAAAQkBwCAAAgIDkEAABAQHIIAACAoGrnl7/c2/XDH7qP33OPXwQgC+/+9KdJXH3sjjv8EgCV+tWHH7pfvvuuu+dTn/JLAGRBcTXn8593G48fd1WHNm7s/euzZ92XHn/crwaQhQNbtrila9a4aZ/5jF8CoFI33nrLndy3zz22fbtfAiAL3//e99xvLVzoHtm501Xlc7nens5OtzKX86sBZGFbY6NbVYirOXV1fgmASnV1dLiDra1uaz7vlwDIwqFCXFXX1rqGlhbGHAIAAKAfySEAAAACkkMAAAAEJIcAAAAISA4BAAAQkBwCAAAgIDkEAABAQHIIAACAgOQQAAAAAckhAAAAApJDAAAABCSHAACMgrsWLHDN69f7OWDsKjs5vHT9upvX3OznAIwWNS7t58+7p3bsSCYAI6P2S4ma4kjUlh0+cSJ5P5hKtntu/363dsUK17Z7t19y++mcSFZRTNnJYcebb7qlixb5OQCj5bX2dlc/f76fA1CpC21tbsWyZX6utEq2a1661O3cvNnPAWNb2cnh6c5O98jDD/s5AFnQk7wqGvEUU6VD1YeYqhS2rVVCAAykKrvFyfMHDvilfazSp/jT+5hiyuIwrgjacpv0WZOuHOrY85qawrYx+6ytS6+Pabv457B4V/XPlqXPX+dh62xS5RQYTNnJ4d7Dh6leABnSTfyZXbvc++fOhUniruNXjh93i2tr/VxfHObWrUu23bd9u3to7Vpu/ECKYujkmTMhri6XiBFV9y5duzbgIUsxl34gE8Xaq3v3Jvu7cPRoErvFHs7Sx9a+0gncS0eOhPUP1tcPiPk0xbwdV22wEsNZNTXh819ZvjzsX+ezZsuW5Pxs/ezp092mQfYPSFnJoS44XcAAsqNuKN28Y+k4UyNTd//9fq5vvXVf6VXzbSdPJvMA+iiherGlxc859/QTT/h3A80uJFmKoTNvvOGX9H023UuWfgDT5xS7xQom6WOra1kJaFxZ1AOeWbJwYcnkVZTc2XF0HhpmEndXb1q9OiS42i5JCAvnZxgOhuEoKzlU4Dza0ODnAGRJN3Xr/tGN36ghmDNjxoAbvRqSmCoIV27c8HMALJGbOmVK8iqD9XqpbVMlT6wSmN5eMagKoKqHitNSlb5ixxYloFe7u/2cczXV1f5dn66rV/27j9I9wGjsv9j9wia53tOTvIrOw9YpWQWGUlZyqMCJqxcAKmdJYdxdFVcOVRFMJ4MAsqW2zSpvpbqURdU6xaiGcyjhUuzG1cDRokqiziM9qSfBkkKNd9R5anmpnweIjTg5tCehuHoBoHLWEOkGXqyycersWbfogQf8XJ90lVDdUTOnTfNzAKytsiqbWDtWjLa3rmUlffEY32JsOIhiV1/UjNmxu2/eTF6NegRmTJ3q58qniqMS2VI/jx4o9bNYsggM14iTQwWYBrwCyF481kjfTIy7ldXVlE4a1XhZ15eqFtpeg+oB9Ht2wwbX+sILfs4N+YUMdS3rCyZSLKmyKr/Fnmg8cLEHMyWNX4vGHKoLWtW+LJI13Q+U/DU++aRf8tFzi7uodY+gWxnDMeLk8OVjxz5SvQBQOXVT6UauG7smVQXVqKnR0U292EBya3i0vX0rkao+MJC+pKH4sdjS2NzB2LCpUl2wSsrsrwPYPrV/HSdNcR0fW/Gsv4OYFf1RbY1DtP3rnHQf0DnqfOJ1ar913vFDJ1BMVT6X6+3p7HQrczm/CEAWtjU2ulWFuJpTV+eXAKhUV0eHO9ja6rbm834JgCwcKsRVdW2ta2hpKe8LKQAAAJiYSA4BAAAQkBwCAAAgIDkEAABAQHIIAACAgOQQAAAAAckhAAAAApJDAAAABCSHAAAACEgOAQAAEJAcAgAAICA5BAAAQEByCAAAgKDqW0uW9L596pSfBQAAwGR035Il7g9ff91V/dnTT/d2nzvnGjZu9KsAZOGPv/pV11iIq0/PneuXAKjUTy5edPnnn3d/8J3v+CUAsnCsEFdTFyxwy3fscFX5XK63p7PTrczl/GoAWdjW2OhWFeJqTl2dXwKgUl0dHe5ga6vbms/7JQCycKgQV9W1ta6hpYUxhwAAAOhHcggAAICA5BAAAAABySEAAAACkkMAAAAEJIcAAAAISA4BAAAQkBwCAAAgIDkEAABAQHIIAACAgOQQAAAAAckhAACj4K4FC1zz+vV+Dhi7yk4OL12/7uY1N/s559rPn+eiB0aB4kzxZhSHikctf27/fr8UQCmKFyVqFkeKocMnTiTvB1PJdorNtStWuLbdu/2S0Rf/zMBgyk4OO9580y1dtMjPOXfmjTfckoUL/RyAW+W19nZXP39+8l6NnMyuqUleAYzchbY2t2LZMj9XWiXbNS9d6nZu3uzngLGt7OTwdGene+Thh/2cc6fOnk0ufgDlU3VBT/fxFNNTv6oPRg9pX1m+3M/1iT9rySMw2T21Y0eIi+cPHPBL+1ilT/Gn9zHFnD4jcUXQltsUV+3TlUMde15TU9g2Zp+1den1adpvvG1cCbTeg2Lr9V4eWrs2nKtVUG2Kfwa9j39n2k96e03pCikmhrKTw72HDw+oXnRdvUr1AqiAbrLP7Nrl3j93LkyiG7R55fhxt7i21s859/KxY27RAw/4OZd8/tW9e5PPPrthQ9IgAZOdYujkmTMhri6XeGhSgePStWsDEi7FXPxAZpRkWaxdOHo0ib34cyZ9bO0rnYC+dORIWP9gff2AmI/pHrFmy5awrY6r84iPq/PQcq3XPeBrLS3Jcs2LznnT6tVJu637g/0MmnQecYKodt7Wq73X9vu2bw/b62fR+WDiKSs51IWoC9iku5gBjJy6oXTDjcVxJmpk6u6/388N7GIW3axtXg3A7OnTebLHpKck50WfJMnTTzzh3w2kAodiTsOkjD4b95JJuiKvz1kClZY+trqWlYDGcZlbt86/c8nwrFLJqx4GlZwZHVcxrwTWaN4KNXpw1LGKaTt5csD9QnQeShCN7h/xev2McXd5/KCKiaWs5FCB82hDg5/7aBczgPLp4cu6bJT8GTVIc2bMCDd+baebeyx9s9b2V7u7/Rww+VgiN3XKlORViiVxRm2bJUhWkUtvb0mZqnaK01KVvmLHFiWgcVzWVFf7d33UE1eM7geq1Nn9QZOSzziZnDltmn/XL53MioaC6bPxvrTvOJnU/aMYVT5te0xMZSWHCpy4eqELbLBgAzA0Swrj7qq4cqgn/fhLX+kuZgCVU9tmXculupRFFUDFqCp5lmSNRpU+7ga2qdxvQKvbOb0vTaVYUqieQm0XVzExsYw4ObQnkLh6ke76AjBy1hDpplvsYUtP+vH4wnQXs6SrhKpAzJg61c8Bk4+1VRr+ZIpV0oy2t65lJX1DPYDZcBDFrnrRYnbs7ps3k1ejCmA5calu3rjLuxKzCueme8pwqa1X0qyflW9dT3wjTg7T345MdzEDKF/cPaSB4XG3shI9SxrVuMVdzEaD0a3h0+d1Mx/On94AJjJVyFpfeMHPObepRDewUZumWJJi8WNVfr0aPawV69JV0mhfChF1QSvJKycuNSYw/cUXVfNKdWsPZuNjjyX3l/gLKNpP+ssyaXZ/0SvdyhPXiJPD9Lcj013MAMqjp3ElgGp0NF25cSNp1NToqLsq/tJXuovZ2DeU9Xk1IoN1EQGThb6cpfix2FLVbDDWppXqUtZDmrpUbcyhJu1fx0lTXMfHVjzr7yCWQwll+rgq1gy3kqefR59VQqgHS/uWte1LD6elzk0/c3x/0as+L3GyiomhKp/L9fZ0drqVuZxfBCAL2xob3apCXM2pq/NLAFSqq6PDHWxtdVvzeb8EQBYOFeKqurbWNbS0lPeFFAAAAExMJIcAAAAISA4BAAAQkBwCAAAgIDkEAABAQHIIAACAgOQQAAAAAckhAAAAApJDAAAABCSHAAAACEgOAQAAEJAcAgAAIKg6tHFj71+fPeu+9PjjfhGALBzYssUtXbPGTfvMZ/wSAJW68dZb7uS+fe6x7dv9EgBZ+P73vud+a+FC98jOna7qW0uW9L596pRfBQAAgMnoviVL3B++/rqryudyvT2dnW5lLudXAcjCtsZGt6oQV3Pq6vwSAJXq6uhwB1tb3dZ83i8BkIVDhbiqrq11DS0tjDkEAABAP5JDAAAABCSHAAAACEgOAQAAEJAcAgAAICA5BAAAQEByCAAAgIDkEAAAAAHJIQAAAAKSQwAAAAQkhwAAAAhIDgEAwKg7fOKEu2vBguQVY0tZyWH7+fPJP6imp3bs8Ev7NK9fzz80cIvMa24OsRdTzCn2YpeuX0+20yuAbFj7lxVLkMqh9jfdBpfruf37k/uLDPdnrHS71hdecK/u3etWLFvml4wu/e7tZ8ZAZSWHX2tpSf5B3z93zu09fDj5hxe9zqqpuW3/0MBEppv30kWLkrhbu2LFgEZBN9m23bv9HACUr37+/OQ+M5RKt8vv2ZOsw9hTVnJ46do1N3XKlOT97OnT3fWenuS9ksaNjz2WvAcwckoA9YQdT+bKjRtu5rRpyXu9XvYVQX3mK8uXJ++LaTt5MuwrXV0EJgOrsFkcWDU9rsSnY0Pztk6TqADy0Nq1yXsts8KIVf9ssuWlxMc93dnpl/axir9Niu/hSp/zUPEeb6v7i9H5a5noNd0bqP3qvOLtJP4da7Lfc3o70fy8pqbkNX7Q1X61//hnGep3EG8bVwLtd6nPp9frZ1qzZUuSz2i5nWu8bbxc9Fn7GW0/6e01TQRlJYdKCLtv3kze6xdbU12d/KJV1ZhdU5MsBzAyiqFndu1KnrBtErtxKiG0G7heVaUXfWbT6tXJ+2JeOnIk7K/r6tUBN2JgslAv14WjR5M4UDulxl0PVRYbiidLpiwZsXWq1GudqlzqNbN1mrckw/a9b/v2JIGMk4qYjms9AJp0XkafUcJkPXOaFL9DJUdicW2f0z5ea2//SGJnlMQ8u2FDsq3OPT6PmH72l48d83N956j9Ni9d6pf00XFOnjkTjq99Nz75pF87UHxsTTp2/DNq/482NCTr9HPoHlfq96l/F/3b2b70b2qJmzl19mxYLzqWejj1b6V8Rst1TWh5fL/UsfXvER/bfsYLbW1D3rPHs7KSwxdbWpKL3/6BFSDq1qJqCJRPNyu7uZgH6+v9O5ckgLoxKe70unPz5uRmphgcjOLV6H2pRgCYyBRLVrywyl78UKX2S0mJEoG4iiaKtVLDNpQ4KQZt34pjHev5AweS+ZiOq4KK9mfi+FWVX8lY3NWaW7cuSViGkj7HwbprldQoKbKfX+eu4xbzyMMPJ78Xo3OMf5fmane3f9dH+1YClZY+tihJU5JltN6Gp9nPYQWpmCWq8e9T+9Xv2P6N5eknnvDvXJKYp/99jX7P8f1Sx9bPqp/ZxL00Q92zx7OykkP9wixL1j+E/rH1C9PFooZLUzpzBzA81gWjKb4pi262iju76epmphjUk6p9Jr4pStxI2HCQUk/hwERllXY588YboTvRJlWIREmIJYq2brB4UTV+xtSpfq7PkoULw7CPmIZgKfGJLXrgAf+ur8Klh7f4vKzrc7j0wGifLUWJ3JwZM/xcn8W1tf7dQLp/6JzVzovOUT9fmiVlduz0fcgUO3bd/fcnr/Z7Tq8XG74W63jzzeTVjmmTxNvbfc8U+7fRsXX+VviySddBnEym/61lsHv2eFVWcpimi9caKD19qPFSdh6XiQEMzm4wujlZt9JgT6GKN1UV9Dk1KNpen9PYXwCDU2wpZtJTkgwVEkmbV2KkxHG0Ch5xd2s8DcWSwribMytqz1UhtUpdukvZ2HH1u7Uk61bTv48dN56s8jhSNjwgnuLKZGyk9+zxpOLkMO7WUjYeD5jXEwaA4Xnl+PHwcBVX+4rRTVpdy7oBxtUIPSHr6TeudMTvrWsm3SUETCaq/gy3wqMqvRKGdFwZVbnSXapq++JKpdH4/PR+4gqXPlNuu6leBHXP6v4xlGI/f/pniFnXsrpXda8Z6v6h7m07j3QFUcdWtTVmFcCR3peK/T7LZce2cxmOkdyzx5uKk8N4MLwu7HjAfLHSM4DS4u4OPXiVasA0nklVQ7EbpCj5S9+8N0WDo1VVLDW2CJgs9FClOLEvoIi6TVUFUqKh5fG6wZIXfXEi/sKE9qO4LTYGXwmEKkvxeET1vBnrzo573dRDMNyqZZzgxeefZj+/HUfnHo/5S7OuZW1T6i8jpM/TksJ0l66OrftV/DPqdzDU2Oli7PcZf/HFqnnppHQ4dA5JN350H9a+4nNNG+49e7ypKDnUxacnFaPSq42XUFXDkkYAQ1P86Ila8aNJD1i6WSmWYmp8dEOybhPdIJXw6TPq3ogHVIse0myf6h4q1UUCTCaqCMbxpqRAFSAlgKp8pdepeiiWKGm5EhDFodpB+7Mstm2pKpj2bV8s0xQ/rOkz+qySMFuvWC/2xY40/c3A+HNKWpU4pf9UjtE+bXud+1APjbp3SKkuZd1XVEW141tXa7Hfg37P8bnqPlduvqDfZ/q4+h3q32kolqjqc0oIdQ46F/u31KR/21LnNtx79nhUlc/lensKF8/KXM4vApCFbY2NblUhrubU1fklACrV1dHhDra2uq35vF8CIAuHCnFVXVvrGlpasvlCCgAAACYGkkMAAAAEJIcAAAAISA4BAAAQkBwCAAAgIDkEAABAQHIIAACAgOQQAAAAAckhAAAAApJDAAAABCSHAAAACEgOAQAAEJAcAgAAIKg68PWv917/0Y/c7zY1+UUAsnDs+efd5wpxVT1rll8CoFI9ly+7Hx096ho2bvRLAGThLwpxVfO5z7lHv/1tV7Wnqan30unTbgoNGJCpKxcvuuqZM92dd9/tlwCo1Afvved6rlxxM+fO9UsAZOFm4cFr9uLFbl1bm6vK53K9PZ2dbmUu51cDyMK2xka3qhBXc+rq/BIAlerq6HAHW1vd1nzeLwGQhUOFuKqurXUNLS2MOQQAAEA/kkMAAAAEJIcAAAAISA4BAAAQkBwCAAAgIDkEAABAQHIIAACAgOQQAAAAAckhAAAAApJDAAAABCSHAAAACEgOAQAAEJSdHD61Y4c7fOKEn+vTfv68a16/3s8ByFqpGJvX3OwuXb/u51yyzXP79/s5AJW4a8GCJPZutdE6DjCUESeHunB1Acvpzs7kvRolNU6vHD/uZtXUJMtomIBsFYsxTVo+Z8YM9/yBA8l7AOPT++fOufr58/0ccPuMODmcOmVKcgGfPHPGXS4khXo/u9BY5ffscTOnTXN7Dx92F44edZtWr/afADBcSvaU+MWTKRZjzUuXJstfa29P1l1oa/Nb94n3E1cWgclEPV2a9PBk8ZCu0KnabuvihyzNy0Nr14aihxVJbIp70YodK93LNtix7LwUr7aNTen9ALfKiJNDJYK6mHPr1rklCxeGLq62kyfdqbNnk0ZrXlMTDREwQrrxP7NrV/LAZZOooZFSMab3WqZ1ccVe+3p1795kP89u2JBsB0xWeqhSu6V42Ld9e5LsWQxZO2Zxp0p8vEwUS3ogU/KmzyrmbPs1W7YMSNx0rBdbWpJ1OpbWm2LHshiPKV71Wdtu7YoVA/YD3EpljTlUdWLFsmVJoLTt3p0ss/dKHnUh6xXA8CmmFDuxB+vr/bviMRa/1zptY9SYWBeVls+ePp3KAyYtxZJiTPSqeT1wKUFU5f25zZuTdaL3WpauLoqGduhhK27jNP/ysWN+ru9YFnt199+fvOo4xY6luN342GN+rp/i2s5XFtfW+nfArVf2F1IA3Bpxl5UaknKlGxNVKK52d/s5YHJRT1dMY3ev3Ljhum/eTObjZC958Co8TF3v6fFL+mlIlarycXev5ruuXvVb9O07TccpdixJz8ese5qqIUYTySEwRlhSqC4r6w6OK4cAxoa4u9em9HjfSllSuHTRomT/OiYwWkgOgTFC3VXqClZDkMU3FtNVQlU2Zkyd6ueAyUVVwpi+UKkvcelLlmLjDyXpAr52zdVUV/sl/VSB11/qKEexYxWjB0UdX/eCnVEXNDBaSA6BMUQNltGXSyrpVlZXlzVC2pcam3gMEzCZ6EsiNoZQY28VW/q2v7p0VaHfFH0pRO/jcYOxp594ItlXPH5XXzKxL5oMxo6lPztlFJvxN5ZjFr96pVsZo4nkEBgjVCFQdc/GManSoYHuGuNUDvuGsvZl34IGJitV5TVkQ/GgREvfNraxfvbFSos9sWVin1Uip4RRwz60D9teYwzj7Qej7fQQaJ996ciRj3RJ6xhx/NpfJJBiX5IBslaVz+V6ezo73cpczi8CkIVtjY1uVSGu5tTV+SUAKtXV0eEOtra6rfm8XzI0+1MxdNECpR0qxFV1ba1raGmhcggAAIB+JIcAAAAISA4BABOaupPpUgaGj+QQAAAAAckhAAAAApJDAAAABCSHAAAACEgOAQAAEJAcAgAAICA5BAAAQEByCAAAgIDkEAAAAAHJIQAAAIKqP3n88d6ftLe7uV/8ol8EIAs/OHjQzV2yxH1i2jS/BEClfnHjhrt46pT7wqpVfgmALFx8/XX36fp6t2bfPld1ZPPm3rd/8AP3qc98xq8GkIUr58656vvuc3f+xm/4JQAq9cHf/I3refttN3PBAr8EQBZ++tZb7r4vfMH9m298w1X1FvjlAAAAmOQYcwgAAADPuf8PUmA5cbJxdy0AAAAASUVORK5CYII=)"
      ],
      "metadata": {
        "id": "QiLtltHSJMp6"
      }
    },
    {
      "cell_type": "markdown",
      "source": [
        "![Captura de pantalla 2024-09-06 121159.png](data:image/png;base64,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)"
      ],
      "metadata": {
        "id": "K6vIGkmK0TWQ"
      }
    },
    {
      "cell_type": "markdown",
      "source": [
        "![Captura de pantalla 2024-09-06 121623.png](data:image/png;base64,iVBORw0KGgoAAAANSUhEUgAAAokAAAEUCAYAAABHx6whAAAAAXNSR0IArs4c6QAAAARnQU1BAACxjwv8YQUAAAAJcEhZcwAADsMAAA7DAcdvqGQAACW0SURBVHhe7dwPbNf3nd/xD9t6Wdp0Ik3jMgMFzpdOakLGbLjiW3pkdcKYNBsr4xbQEooaWlXcQUCqFIbIbC+II1IlCLmiKiUVpZkgdywy9qQxEnfhymo6sMdCrtKS8xEKeNS5NOiatst1E/u+Pv68zcffz8/G9u9LsP17PqRvfr/v9/fHP6Lf25/X9/35fD3jWua9Cxfcr37+c/fxO+90AIrzN1eu+Lr6e7fdFo4AKNf//fBD96v333f/YNascARAEVRXH//Up9xd8+b5fR8Sv/ngg+7tEyf8AQAAAFSme5Ytc994/XV/34fEztZW17trt/v8J6r8QQDFOHn1grs3q6s7P3Z7OAKgXO//5tfuL3454B6YOdjtAFCMn2R1Vbt1i2vMcqH8Hf9fAAAAIEJIBAAAQIKQCAAAgAQhEQAAAAlCIgAAABKERAAAACQIiQAAAEgQEgEAAJAgJAIAACBBSAQAAECCkAgAAIAEIREAAACJaRsS/8mz/879wXtvu3/6H74djgAAMDl9un6xH7P+xelXwxHg1ptwSFz59mn/hS61fVRUTPp593xtbThy3WcfaXTvnTnr/tu/+Xo4Akx++i7n6yne7Ltu+7fKl/7Ln/mfr5MxYCqw72yprdQYcjOoaaGfV6p5cX/rU+5vf37V/eclD4cjwK03pTuJKqY/u+se9/YLB8OR647es8T94J//QdgDphd977UBmDrUtFDdlmpeaLzSuAVMJmWHxP/6L9cMDVjxwGXTvTp7M/nOn3Uj7bnadCyW76zEZ2ClOol2pmZb3OmIP5O9Nv8cYDL44K/eSepKm50Q2XfX2FSVbXGdWAclrg2rs7i7YnVk76XnxI+X6n7E4joey/OBW+Ev93+/ZF3F33tjNWPfZauH/Hddr43Fj8XTx/n3k/wYp59h4s9kr80/B7iZJkUn8XfWPx7uOfdbn5o5VEAqnkV//LS/b6pXNIwY6lQ4ejym944LUu5avMjd8dvzw97wnw9MRf/sPx0K9waVqpO4NlRnGnhUCyZfa3pO/Photacay9eRns9ghuko/11fsvePw73BgBjTWDNSHaie8nWnmouDpagW4/rVc+LmCHCzlB0SNTjZ2Y22kQaR0fQf6/Jnc7qV2z59l7+d+68a/a09fvbfPuP3Z33pi/42pjMuG9Csu2nPj4vL2BmkyZ8JAreSBpa4rrTFHY6YnQRZndj3WutyY9adVCdFNPBYrZh8HaiG9LjVZqnaE6sxe77eV1ST1BYmEwW8uK4mciJjtWRjzG/NnOlvbfyLZwIkPtmKWY3G3U1R/edDoNWW3lvuqLne6ABulknRSfxff7Lf3w6c+JG/vS0bvOJbe1xTAiqSUgt771z4eX+ri1X+uvuMv6/nW0HFA5WeY+xxez0w1dhJlYKaDXyiEBi78oMf+tsP+ga/8/ruW61owXyeHrfpbVtDZYNhzGorfr7e1+qM2sJ0Y7Vk33ertY/Pqfa39rjE4S9Pr1Pt/Y+n/n04MniyJ3EI1HPsZ/3NW33+1n4WcDMVviYx/rIDmBgFrriutE1kUTtdPGC4/JpELnAERnbTO4nWDdRgFa8DHIsPQ3fjH/3Ren+r94g7JbH3z/3E38bTW2rX28+0jgkw3Xz41+/521IL8sv53sdTXjaN9rdX046j/Yz4+apBm2Kz2gSmgrgD/+nfrQv3xuZXl/r9bbwsQ8tENGaVWkOoDqF+XrxMy5ZuWMcfuJVuWki0L7gGDhVIfmH9WFz8j53+1qbR7D2sHR+Lp7dsnaQtCLY1WMBUYXWT3/IXYYktx8ivtcovfp8I1ZDeyxbqx9NoMatJe35cq5ygYSqIv6dWQ/klGzdiM2lx/eo94qUYsZ++MjjGxbUrGstKPR/4qN20kKgveBzmVCTaxkPvYQuDjYpnpD+QrWmDfIBUQGQKHNOZBje7UMSo1sr9o7zqcsTrd1VbI9WSajJ/Mqbnj1SrwGSUH2/y48lYqIMfUx2NVIuqp1JjHFPgmCxmXMt0tra63l273ec/URUOAyjCyasX3L1ZXd35sdvDkWKo46DB52b88V1NFasTeLPeHyjX+7/5tfuLXw64B2bOC0cAFOEnWV3Vbt3iGrNcKJPi6mYAY6O1SzYlVWp9IAAARSEkAlPInYsWhnvO/eV3WGsLALh5CInAFKK1Snbl8s1a2K41jnp/ppoBoLIREgEAAJAgJAIAACBBSAQAAECCkAgAAIAEIREAAAAJQiIAAAAShEQAAAAkCIkAAABIEBIBAACQmHEt8/Lmze6Nfd9x8/7+neEwgCKc++BnbsHtM90df/e2cARAuT74fx+687++6hbe8ZlwBEARLvyf9939G77qHt2zx+/7kPjcihWu74c/dJ+YOdMfBFCMqz/7ma+rj91GSASK8psPP3S/vHrVzfwMIREokuqq5otfdE8eO+b3fUjsbG11A729bnVLiz8IoBg7mprcmqyuaurqwhEA5err6XGH2trc9o6OcARAEQ5ndVVVW+sas1worEkEAABAgpAIAACABCERAAAACUIiAAAAEoREAAAAJAiJAAAASBASAQAAkCAkAgAAIEFIBAAAQIKQCAAAgAQhEQAAAAlCIgAAABKERKCCnL982d2xePHQduT48fAIML3pu76wuTns3Vybd+3yGzDVERKBCqGAuHDlSvfMpk3ugzNn/Na2bx9BEQBQEiERmETU6Yi7Hdb5233wYDgyce1dXW7BnDluy9q14YhzL7S2+qAIVCLVmnXVVWO6NbrfffZs2HP+8bg21Sm012r7qLqUwEdpQiExP2UVbzaYlXpMGy14YGTn2tvd+UuXhupoS1Yv61et8sHOBrFSm2ryRo9Lzdy5/jamnwdUmuaNG309WFf96b17wyM3plrrOnVq6LXnjh4dVrfAdDGhkLhg9uyh4shv1qUo9Zi2PVu3+scBlHZg504/YOmE6rXu7qGaUW2VqiltqskbPd7c0ODfL55efvbFF8M9oHLopEm1sDsaj1R3Y6Va0wmdUX2pSw9MN0w3A5PMquXL3UP19W7/kSPjGrhuRAPZq/v3u3Xbtg11GJctWRIeBSrHlXff9beqCTO7qircGzudcA116+nIYxpiuhmYIoqYbq5ftGhYh3HurFn+OICxs3CoEy5NNftuPZ1ETENMNwOTjMKepsLURdQgZMqdbi7lZG+v71oClWTW3Xf7Wzt5kssDA+Hejb3U2Tn0VwJGqi1gOmC6GZhENGhpPaICok07F9V915WacVdR+5rSfuqJJ/w+UCkU7FRbujDMxCdkos7gy8eOhT2XXNhyob8/3Bu80pnpZkxHhERgEtHfMdTVzAqIooX1CnJFXDWpqWaFT/0MhcWH16/3axR1HKg07c8/7/ouXhxakqHOYKzjW9/ytWePx+uD9dr4sXnV1b5uT5w+HZ4BTA8zrmU6W1vdQG+vW93SEg4DKMKOpia3Jqurmrq6cARAufp6etyhtja3vaMjHCmf1hnqb4bGVy0DleZwVldVtbWuMcuFQicRAFBRtORCHcD4z0FpnWHD0qVhD4AQEgEAFUVrEu3CMJsynp8d48JKYDhCIgCg4mjdb/wXAAiIQIqQCAAAgAQhEQAAAAlCIgAAABKERAAAACQIiQAAAEgQEgEAAJAgJAIAACBBSAQAAECCkAgAAIAEIREAAACJGdcyB9atcz/t7nb3PfhgOAygCH9+6JC7b9ky96nq6nAEQLl+3t/v3jxxwv3+mjXhCIAivPn66+6z9fVu3YEDft+HxH3Nze78yZPu7vnz/UEAxbjw5puuat48d/snPxmOACjXr3/xCzdw4YKbd9994QiAIrz7zjtuwQMPuA3t7X7fh8TO1lY30NvrVre0+IMAirGjqcmtyeqqpq4uHAFQrr6eHneorc1t7+gIRwAU4XBWV1W1ta4xy4XCmkQAAAAkCIkAAABIEBIBAACQICQCAAAgQUgEAABAgpAIAACABCERAAAACUIiAAAAEoREAAAAJAiJAAAASBASAQAAkCAkAgAAIDHhkNi8caNb2Nwc9gDcbOcvX3Z3LF7sdh88GI7c2JHjx/1rbNN7AJVIdRPXgm2bd+0Kzxik/fyxUlRb8RioMXGstTme5wK3Ep1EYJrSILZu2zb36v797oMzZ9y5o0fdwpUrCYqoWA/V1/taiLeuU6d8aDN7tm7123i1P/+827J2bdgDpgdCIjCJqDMRdycm0j00L3V2uvWrVrn6RYv8/oLZs90zmza5577/fb8PwLlz7e3ute5uf1Il+U5i3HW0MGknYOcvXfLHVadxd9DeQ7Vsr7X31/P0857eu3dYOI2fGx8HbqVCQmL32bNDX+78ZoUB4MY0YGngscFmSzbQKOiV6lBoECpVc9rMvOrqcO+6d+gkAsOoxk729oa96xTWdGJlXce+ixd9ba5avtwd2LnTLZgzxx/XCVje/iNH3Autrf5xPVehUtRxVEdT76v7ooDYsHTpsJ8TB1XgVikkJKpTYV/u/KZiAjB2GlDUZdAgoY7DSFNfOl6q5rTJY42N/n3i6WXtAxhOJ1OlTp4U1mI6iRvrlLKCoHXx6+6919+WWuqhJotODOM6V7hUyGRpCG41ppuBSUYnVhpgNEgoME6U3kfdCq1DtA6j9gGMTcuGDf7ESrUTLwMZi/kluotX3n033Lvu8sCA70jGLFyWej7wUWK6GZiixjLdrK5H3GG80N8fHgFgVBelQp1OtFQ3uujL1h8yDYxKwnQzMMlozZOmmeN1TKXcaLq5FF3JuWzJkrAHQNS1f3TFirCX0ppD1ZVqUjVUpNlVVT6AxtR4kVl33+1vgVtlwiFRC261PgNAcbQGSdNbGoxs2tk6FzZQjXVNlMJmPEWmfQ1G/JkO4DrVSLx+MKbOoV1EJrq4pWbu3LBXDP1cTTfHHcqvtbb6i2lKXRADfJQmHBJ11dd412gAGJ3WD2pwsA787q1bfZfDB7wsQOYHrdEoDOqKSZuCVvgcrcsITHfq0Fs92KYasauM8zTNbGsStamLaM9VjdoU9HgvMLGLyuxP3ajhoveOP9NE/lYjULQZ1zKd2VnLQHaGtLqlJRwGUIQdTU1uTVZXNXV14QiAcvX19LhDbW1ue0dHOAKgCIezuqqqrXWNWS4Urm4GAABAgpAIAACABCERAAAACUIiAAAAEoREAAAAJAiJAAAASBASAQAAkCAkAgAAIEFIBAAAQIKQCAAAgAQhEQAAAAlCIgAAABKERAAAACRmXMt8Z/Vqd+FHP3ILFi0KhwEU4X92dbnfzurqk3fdFY4AKNcv3nvP/dXZs+4fNzSEIwCKcD6rq3m/93vuq4cP+30fEg+sW+d+2t3t7nvwQX8QQDH+/NAhd9+yZe5T1dXhCIBy/by/37154oT7/TVrwhEARXjz9dfdZ+vr3boDB/y+D4mdra1uoLfXrW5p8QcBFGNHU5Nbk9VVTV1dOAKgXH09Pe5QW5vb3tERjgAowuGsrqpqa11jlguFNYkAAABIEBIBAACQICQCAAAgQUgEAABAgpAIAACABCERAAAACUIiAAAAEoREAAAAJAiJAAAASBASAQAAkCAkAgAAIEFIBAAAQIKQCEwj3WfPujsWLx7atA/Auc27dvmaGIkeX9jcHPYACCERmCYUCB9ev94d2LnTfXDmjN+0T1AEBi2YM8c1b9wY9q47cvy46zp1KuwBMIWGRJ2J7T54MOwBGC91MuJuxvnLl333Y7S60uN63svHjrmH6uvdquXLwyPOB8ZnX3wx7AGVrWbuXNd38WLYu+6lzk73lUceCXvXqRatKx+HS4VKPWbdSW26H1PN2mPaVKMmfm1c78BkU0hIVPHoyz6vutptWbs2HAUwXufa2935S5eGQuGWbCBZv2pVUlcWHrWdO3rULZg92x+fH25jpQZFoFIpDCrkGdWSamTurFnhyCCFNz3XuvKqrTgoqk415ukx1eD+I0eGuvaq36f37h167TObNrmFK1f6x4w6l/61Wc0Dk1VZIdEGqccaG/2XnYAIlE/dPw0w6jS81t3t9mzdGh4Z7GCo5jTg2ABkAfHRFSuGDVTStm9fuAdAmhsafOfQtHd1JV1Eq6F4THvy8cd9PcYdQXtcNaip7MsDA37/u6+84uvY6Hl6PJ4RKNW5BCabCYVE62K8un+/H6Ti6S0A5VE9adpYgS8eaDTAKPRZOMyrX7TIP1/rEO0EjoEIGE6BTp1DC3sKdAqOsVNvvOE7hVZH2qwTeOXdd/2tQl/exStX/K1eO7uqyt83DUuXugv9/WHPJZ1LYDKaUEhUkWmQssEobt0DuDnUjWjZsGFo0CpFAdNCZKkgCWCwi6cOogVF68bHdKIW15JtOhkDKkVZ081WNGrda9CKW+kAJkZ1pGktdQXXbdsWjg6yEKg1UBYW4+mvvBOnT/sOBoDr1DlUB7HUVLOoy6canKh46tloDaLWMAJTSSEXrrQ//7wfuNRKJygCE6fAp/WICog27Zy/alKsm69N02B6na1XNNrXQKe1VACus86hai0/1Syqvfyfy7H6Gu2kzCh4xid4Ghc1Bc26fUw1hYREowX2FAEwcQp8uppZg5TszmpKaxNHO/lSUNSgp9foKkrrMGqQiq98BnCdgpyC4Ej1oauOtXYxriertRvROBjXol3pDEw1M65lOltb3UBvr1vd0hIOAyjCjqYmtyarq5q6unAEQLn6enrcobY2t72jIxwBUITDWV1V1da6xiwXSqGdRAAAAEwPhEQAAAAkCIkAAABIEBIBAACQICQCAAAgQUgEAABAgpAIAACABCERAAAACUIiAAAAEoREAAAAJAiJAAAASBASAQAAkCAkAgAAIDHjWmZfc7M7f/Kku3v+/HAYQBEuvPmmq5o3z93+yU+GIwDK9etf/MINXLjg5t13XzgCoAjvvvOOW/DAA25De7vf9yHxpa9/3V3+8Y/d765c6Q8CKEbnc8+5L2R1VcUJGFCYgWwg+/HRo67xySfDEQBF+O9ZXc3+whfcY9/+tt/3IbGztdUN9Pa61S0t/iCAYuxoanJrsrqqqasLRwCUq6+nxx1qa3PbOzrCEQBFOJzVVVVtrWvMcqGwJhEAAAAJQiIAAAAShEQAAAAkCIkAAABIEBIBAACQICQCAAAgQUgEAABAgpAIAACABCERAAAACUIiAAAAEoREAAAAJAiJAAAASBASgQpy/vJld8fixUPbkePHwyPA9LZ51y7/nR+JHl/Y3Bz2phZ97o+ilvX/SBsqByERqBAKiAtXrnTPbNrkPjhzxm9t+/YRFFExFsyZ45o3bgx716kGuk6dCntTz7n2drdq+fKwBxSn0JCoM4zdBw+GPQDjpY5A3M2wzt9odaXH9bwbae/q8oPklrVrwxHnXmht9UERqAQ1c+e6vosXw951L3V2uq888kjYu061aF33OFwqVOox605qy3fYVLP2mLa4RuPXxvUe6z57dtjrRzuZ03vEj8ef2z6H2O+T+LPoc8T/tvjfpG2kz4fKUEhI1BdMX6Z51dVDA1D8JYu3fCEBuE4dgfOXLg2Fwi1ZvaxftWpYsBP7Za/t3NGjbsHs2cmgFG82KGiQzNPPAyqFwmAcqFQbCo5zZ80KRwYpHOm51nWfn9VYHKZUNxrz9JhqcP+RIz7YiWrx6b17h16r7r26+DF1Lv1rs5rP0/s8vH69e3X/fv8c3a7btm3o/Uejz6g6t5+tzzFW+tz2ufxny/5d8e8jVJ6yQqINQI81NvovVDyQ2Zcsv+3ZujU8A0ApB3bu9L/YdUL1Wnf3sJrR4Kaa04BjNaWAKKq/uNbiTc9pbmjw7xcPkM+++GK4B1QG1YE6h0Yd9nwX0cJYPKY9+fjjvn7iLpw9rvpSl/7ywIDf/+4rr/g6NnqeHo/DVqnOpXn52DF/cli/aJHf1632b1Sv+mz6jLuj3xnx57gRfc44tNq/C5VrQiHRuhh2lsNaCKA4qqeH6ut9ZyL+Ba8BRlPDFvzGS7/wrSNhJ3jLliwJjwKVQXWgzqGFPQU6BcfYqTfe8B00qxNt1gm88u67/rZUeLp45Yq/1WtnV1X5+6Zh6VJ3ob8/7Lmkcxl7J/ts6lLGHqitLTlVHhv6bNm/0eQ/x1jYyag2Zhoq24RCor6AGqTUDteXKO5MGPuC5Temm4GJ0Vl+y4YNQ7WUpxAZ11q82YCojoSFTG2jDVTAdKUunjqIVhdxqDI6UYtrxTbr7k1HFg51IqmpZv176SRWtrKmm61o1LrXFytupdtj+Y3pZmB0qiNNGamLqF/WMXUZVUf6BZ4PgAqR+XqzrdQgKCd7e/1gCFQSdQ7VQSw11Sw6eVINTlQ89Wy01i/fHRyJ1j/GXUdRrZZaUxybdffd/tZ+J0j+c4xGY7n99YORfmegshRy4Ur788/7L5W+1HFQBDA++uWu9YgKiDbtXKr7bt18bZoGiweFkdjVkvZc7WtK+6knnvD7QKWwAKRay081i2pPQS9/RXNcP6NR8IxP8DQuatrW1jDeyKMrVgy7EGastap/l35n6II3E38O+3crHIv+LXrfWBxO9buH6ebKVkhINOoSjrUIAKQU+LRA3db5agG6fomPdvI11rN+TZMpfOpnaLCzqyen8/QZMBIFOQXBkWpHF3BoDaB17BW2xlprGgfVkbPX2pXOY6WaVG3akq7x1KqaNvHn1ueI6X30efRY0x/+4bDH9Vr9vrHXqvOp30cnTp8Oz0ClmXEt09na6gZ6e93qlpZwGEARdjQ1uTVZXdXU1YUjAMrV19PjDrW1ue0dHeEIRqIOqC54K/WndoC8w1ldVdXWusYsF0qhnUQAAHBraPpYHcD4YlKtM9SV1cBEEBIBAJgGNBVuF7zZlLEuguGCUUwUIREAgGnC/gKCbQRElIOQCAAAgAQhEQAAAAlCIgAAABKERAAAACQIiQAAAEgQEgEAAJAgJAIAACBBSAQAAECCkAgAAIAEIREAAACJGdcyz61Y4fp++EP3iZkzw2EARbj6s5/5uvrYbbeFIwDK9ZsPP3S/vHrVzfzMZ8IRAEVQXdV88YvuyWPH/L4PiS9v3uz+9+nT7ktf/rI/CKAY39+2zTWsW+eqP/e5cARAufrfest1HTjgHt+5MxwBUIQffO977h8uWeIe3bPH7/uQ2Nna6gZ6e93qlhZ/EEAxdjQ1uTVZXdXU1YUjAMrV19PjDrW1ue0dHeEIgCIczuqqqrbWNWa5UFiTCAAAgAQhEQAAAAlCIgAAABKERAAAACQIiQAAAEgQEgEAAJAgJAIAACBBSAQAAECCkAgAAIAEIREAAAAJQiIAAAAShEQAAAAkCInANNJ99qy7Y/HioU37AJzbvGuXr4mR6PGFzc1hD4AQEoFpQoHw4fXr3YGdO90HZ874TfsERWDQgjlzXPPGjWHvuiPHj7uuU6fCHgAzoZB4/vLlUc/IAEyMOhlxN8NqbffBg35Tt2MkLx875h6qr3erli8PR5wPjM+++GLYAypbzdy5ru/ixbB33Uudne4rjzwS9gblu/LadMxqMj750rG4bvOvVQg1qmHramrTa4HJakIhccHs2b5LYV9yOhVAMc61t7vzly75QChbssFk/apVbsvatX57oLbW19xI02Lzs9rMKzUoApVKYTAObQppqpG5s2aFI4PH1IV/df/+oa68TsC+1trqxz/d10mZae/qGgqZGg/j1+p23bZtw8bJ/UeOuHNHj/rH9X7AZFXWdLMVjwpHA1dceAAmRt2/p/fu9d2G17q73Z6tW8MjzncJVXMvhJrTZh5dscIPPvFg1LZvX7gHQJobGnzn0MQBz1gjpH7RonDEuWVLloR7zj3W2DhsevrE6dP+fUXhUSd29lrdaj/u6CtkEg4xFRSyJlHdDxWUCs86IAAmRkFQg4gCnwJjKRp4VHPqRigoqvOhY3q+uhgWIPODH1DpFM7UObRp3u++8spQwCvFakknbkY1qo6/3sM6kRb63sn251VX+/tGMwBxR79Uxx+YjAoJiZr6UhHp7EpTYgBuLlvztHDlSh8WbYCyTqNtAFI6eVIH0YJiqa6ehcNnNm3ytaTbmE7k9B6lOpHAdFFWSLQi0tSXiiheMA9gYtSN1zSzuoJayxTTkg7VnJZ4jCUIahqsYenSsAdA1DlUB3GkgKc605XQqq+RGh9qiqi+tC29//5wdLBLeKG/P+wNOtnb6y+aAaaaCYVEnX1poLJBKl63AWDiVFua1lJAtGlnu6JZ4VGDjWpOSzzyLEAa7StsPvn44+EIALHOoWptpKlmTScbde7j6Wapu/deX1+aRo7HwPzaYN1q/6knnvD7wFQyoZCoArtRBwPA+Gn6WIvcrSu/e+tWP8AoIKqjEV/EkqfXaErMOvzqQmrNYqmpNKDSqYOobmGp+lAtqQ6tltS511XKtg5R9DqdxOU7kQqMeq6tDbYrnWmmYCqacS3TmRXAQG+vW93SEg4DKMKOpia3Jqurmrq6cARAufp6etyhtja3vaMjHLk11OVX55AAiOnicFZXVbW1rjHLhVLIhSsAAFQa/RkcAiKmM0IiAADjoOUfmkpu2bAhHAGmJ0IiAADjoPXBWpfPX/TAdEdIBAAAQIKQCAAAgAQhEQAAAAlCIgAAABKERAAAACQIiQAAAEgQEgEAAJAgJAIAACBBSAQAAECCkAgAAIDEjGuZbz74oHv7xIlwCAAAAJXonmXL3Ddef93f9yHxla1b3ZUzZ1zjk0/6gwCK8Sdf/apryurqs/fdF44AKNdP33zTdTz3nPuj73wnHAFQhM6srmYtXuwe2bXL7/uQ2Nna6gZ6e93qlhZ/EEAxdjQ1uTVZXdXU1YUjAMrV19PjDrW1ue0dHeEIgCIczuqqqrbWNWa5UFiTCAAAgAQhEQAAAAlCIgAAABKERAAAACQIiQAAAEgQEgEAAJAgJAIAACBBSAQAAECCkAgAAIAEIREAAAAJQiIAAAAShEQAAAAkCIlABTl/+bK7Y/Hioe3I8ePhEWB627xrl//Oj0SPL2xuDntThz63tptNvyum4v8flIeQCFQIBcSFK1e6ZzZtch+cOeO3tn37CIqoGAvmzHHNGzeGvetUA12nToW9qWXP1q1+A26GCYVE60YAKJbO1OOzdau13QcP+q2cjkF7V5cfJLesXRuOOPdCa6sPikAlqJk71/VdvBj2rnups9N95ZFHwt6g7rNnhzrutumY1aTuG38CFtVt/rXxiZh1/uwxvTbPfoZtqv2R5DuJ8Xvrdbq1z6rPGH8W3dfjxvbjrdTnQ+WYUEhcMHu270LYlyguFhN/yeIt/jIDGO5ce7s7f+nS0KCwJauX9atW+WCn7YHaWl9HpaZ9bEAotdkveg2Sefp5QKVQGIyDkmpDwXHurFnhyOCxh9evd6/u3z/UdX+ovt59LTup0vin+y8fOxaePXgCZiFT42H8Wt2u27Zt2Di5/8gRd+7oUf+43i+mn62O/4GdO/3jet7Te/cO+8wj0e8Avbd95hOnT4dHbkyfT5/TPpf/bDqpZMyuaGVNN9sXSYWjgSj+Ettj+Y22ODA6DQ4aFHRC9Vp397CaWbV8ua8jdQAtABqFyHy92aaBqLmhwb9fXKfPvvhiuAdUBtWBOocmDnjGGiH1ixaFI84tW7Ik3HPuscbGYdPTCmN6X1F41ImdvVa32o9rTSEzHw6NPo8eV62LnqclImPp+H/3lVf87w+zexzjrT6n/a4wDUuXhnuoVIWsSVT3Q18uFd5obXEAN6bBQYOEOgLxL/yY/ULXWX/cKRyNfvlbV8MCZjzwAZVAdaDOodWMgpUFvFKsVnTiZlSj6sDrPbTp/SxcvZPtz6uu9veNZgDiae75URDLu9Dfnzy+9P77x9Tx13NmV1WFvcF/63jp32P/Zv0OQmUrJCRq6ktfKJ1d2Xon+5LlN6abgfJpakj1pGkpO/sfy3SzhUvb4ik2oFKoc6iOndVFqTBltWMXeuk2phM5vUepTuRUZOEwnupWBxSVrayQaEWkqS99oaw9LjYI5Temm4HRKexpWli/qNX1i9nCci3xsJoyN5puLuVkb68f7IBKos6hOogjBTzVmdbjqXas8ZGnpoimmbWp02fUBVQ3MKY6K7UeuBR1IdWNjJ164w3/eW5Ez7k8MBD2BoPfWNk0t/7N8ViOyjahkGhnHDYA2doLAOVRbWlaSwHRpp2t+67wqMFGNaclHuNl3UcbOLSv6aSnnnjC7wOVwk6aVGsjTTXH07uqlXi6WeruvdefzGkaOR4DH12xwteVXiPjrTN9nnjtsP1OaNmwwe+PRoE3PrHMX3SioBqvx8yvc4ynxPXzmW7GhEKiCkwDFYBiaapHUzx2Jq+F5/pFrYCojkY5nXgNZAqf+hkKi3YFJid5qEQKVOq8leqyq/5Uh6oT69yrVmwdouh1OonLdyJVT3qu6msidab31VpjWzts079j6e7pd0T8ufNrjtuff94HUHs8Dp56rUKkPaYwqZ+r56NyzbiW6cwKYKC3161uaQmHARRhR1OTW5PVVU1dXTgCoFx9PT3uUFub297REY7cGuryq3M4WU+0FGgVMhU6S4VhIO9wVldVtbWuMcuFUsiFKwAAVBr9GZzJFBB1EWl8cajWGY7ULQXGgpAIAMA42F8SGMs6wY9Sx7e+5Zen2JSxLs6ZyPplwBASAQAYB/tLApPtKmB1DO2C0ole4AbECIkAAABIEBIBAACQICQCAAAgQUgEAABAgpAIAACABCERAAAACUIiAAAAEoREAAAAJAiJAAAASMy4lvnTzZtd/+nT7ktf/nI4DKAI39+2zTWsW+eqP/e5cARAufrfest1HTjgHt+5MxwBUIQffO97rnrJEvev9+zx+z4kfvPBB93bJ074AwAAAKhM9yxb5r7x+uv+vg+J/h4AAAAQsCYRAAAAOc79f920uegT9+O9AAAAAElFTkSuQmCC)"
      ],
      "metadata": {
        "id": "NinDehEj1ixD"
      }
    },
    {
      "cell_type": "markdown",
      "source": [
        "### Notas sobre la estructura del programa\n",
        "\n",
        "La estructura del programa Python será la misma que la de seudocódigo salvo por las siguientes excepciones:\n",
        "\n",
        "**El nombre de algoritmo y las directivas import**\n",
        "\n",
        "Observa que en Python no se le da un nombre al algoritmo dentro del código del mismo. Si quieres incluirlo como referencia, puedes hacerlo usando un comentario. Asimismo, no hay nada en seudocódigo que equivalga a las directivas import de Python, aunque no debes olvidar incluirlas.\n",
        "\n",
        "### Traducción del programa\n",
        "\n",
        "Comenzaremos el programa con unas cuantas líneas de comentarios para aclarar cuál es el propósito del programa, la fecha de creación, cuáles son los datos de entrada y los de salida, y, en caso de que pueda producirse algún error cuál puede ser la causa. Estas líneas no son instrucciones y por tanto no se ejecutarán. Puede pensarse que son superfluas, pero son de gran utilidad cuando se vuelve a leer el programa después de haber transcurrido un tiempo desde que se escribió.\n",
        "Un esquema general para estos comentarios puede ser\n",
        "\n",
        "\n",
        "\n",
        "```\n",
        "\n",
        "\"\"\"\n",
        "FECHA: <la fecha de creación>\n",
        "AUTOR: <nombre del programador>\n",
        "DESCRIPCIÓN:\n",
        "< qué es lo que hace el programa >\n",
        "ENTRADAS: <nombre de las variables de entrada y cómo deben ser >\n",
        "SALIDAS: <variables de salida>\n",
        "ERRORES:\n",
        "<Condiciones de error, a qué se deben y cómo evitarlas.>\n",
        "\"\"\"\n",
        "\n",
        "```\n",
        "\n",
        "Seguido incluiremos las directivas import siempre que sean necesarias. Después debería ir  el bloque principal. En nuestro caso al estar trabajando con los cuadernos de Jupyter, podremos ir ejecutando nuestros programas directamente en las celdas sin necesidad de usar el bloque main.\n",
        "\n",
        " Ahora traducimos las constantes, en este caso, en Python las definimos como una variable más.\n",
        "\n",
        " ```\n",
        " PI = 3.14\n",
        " ```\n",
        "Ahora tenemos que traducir las operaciones del bloque principal una a una guardando el valor correspondiente en las variables definidas en pseudocódigo. Recordar que en Python no se declaran los tipos de las variables porque se infieren automáticamente dependiendo del valor que toman a lo largo del programa.\n",
        "\n",
        "#### Escritura por pantalla\n",
        "\n",
        "La instrucción que usaremos para la escritura de resultados, o cualquier otra cosa, en la pantalla es la función estándar print, cuya sintaxis se detalla a continuación:\n",
        "\n",
        "```\n",
        "print(\"Texto\" + variable)\n",
        "```\n",
        "\n",
        "Así por ejemplo podemos usar print() para mostrar un mensaje por pantalla:\n",
        "\n",
        "```\n",
        "print(\"Introduce el valor del radio (valor positivo)\")\n",
        "```\n",
        "\n",
        "Para mostrar el valor de una variable:\n",
        "```\n",
        "print(vol)\n",
        "```\n",
        "\n",
        "O, si queremos una salida más elaborada:\n",
        "```\n",
        "print(\"Volumen = \" +  str(vol))\n",
        "```\n",
        "\n",
        "#### Lectura por teclado\n",
        "\n",
        "La instrucción que usaremos para la lectura de datos desde el teclado es la función estándar input, cuya sintaxis se detalla a continuación:\n",
        "```\n",
        "variable =input()\n",
        "```\n",
        "En nuestro ejemplo leemos el valor del radio y la altura así:\n",
        "```\n",
        "radio=float(input())\n",
        "altura=float(input())\n",
        "```\n",
        "En principio, con estas instrucciones sería suficiente para que el programa funcionase. Sin embargo, es necesario añadir algún aviso de cara al usuario, para que este sepa que el ordenador está esperando que introduzca un dato, qué valor debe introducir y qué condiciones debe cumplir este valor (precondición). Estos avisos serán escritos en pantalla (mediante print) antes de las correspondientes órdenes de lectura.\n",
        "```\n",
        "print(\"Introduce el valor del radio (valor positivo)\")\n",
        "radio=float(input())\n",
        "print(\"Introduce el valor de la altura (valor positivo)\")\n",
        "altura=float(input())\n",
        "```\n"
      ],
      "metadata": {
        "id": "ukmk63sdLt0h"
      }
    },
    {
      "cell_type": "markdown",
      "source": [
        "## El programa completo\n"
      ],
      "metadata": {
        "id": "B_3B-ZWuEDhQ"
      }
    },
    {
      "cell_type": "code",
      "source": [
        "\n",
        "\"\"\"\n",
        "FECHA: <la fecha de creación>\n",
        "AUTOR: <nombre del programador>\n",
        "DESCRIPCIÓN:\n",
        "< qué es lo que hace el programa >\n",
        "ENTRADAS: <nombre de las variables de entrada y cómo deben ser >\n",
        "SALIDAS: <variables de salida>\n",
        "ERRORES:\n",
        "<Condiciones de error, a qué se deben y cómo evitarlas.>\n",
        "\"\"\"\n",
        "\n",
        "\n",
        "PI = 3.14\n",
        "\n",
        "radio = float(input(\"Introduce el valor del radio (valor positivo)\"))\n",
        "altura = float(input(\"Introduce el valor de la altura (valor positivo)\"))\n",
        "\n",
        "base = PI * radio * radio\n",
        "vol = base * altura\n",
        "\n",
        "print(\"El volumen del cilindro de radio \" + str(radio) + \" y altura \" + str(altura)+ \" es \" + str(vol))\n"
      ],
      "metadata": {
        "id": "qbBBScE3Lyyt"
      },
      "execution_count": null,
      "outputs": []
    },
    {
      "cell_type": "markdown",
      "source": [
        "Recuerda guardar el progreso del cuaderno en tu repositorio de GitHub."
      ],
      "metadata": {
        "id": "DC-6YYqnFf7r"
      }
    },
    {
      "cell_type": "markdown",
      "source": [
        "# Sesión de prácticas\n",
        "## Traduce programas a Python\n",
        "\n",
        "Con este ejercicio repasarás:\n",
        "* cómo traducir a Python un programa escrito en seudocódigo.\n",
        "* cómo editar, grabar y ejecutar un programa en Google Colab.\n",
        "\n",
        "### Primer programa\n",
        "\n",
        "Acaba de traducir el siguiente algoritmo. Su propósito es leer una letra mayúscula y escribir la posición que ocupa en el alfabeto.\n",
        "\n",
        "**Entradas:** una letra mayúscula\n",
        "\n",
        "**Salida:** posición que ocupa la letra en el alfabeto\n",
        "\n",
        "**Algoritmo** posición letra mayúscula\n",
        "\n",
        "carácter letra\n",
        "\n",
        "entero posición\n",
        "\n",
        "**principio**\n",
        "\n",
        "leer(letra)\n",
        "\n",
        "posición = ascii(letra) - ascii('A') + 1\n",
        "\n",
        "escribir(posición);\n",
        "\n",
        "**fin**\n",
        "\n",
        "\n",
        "\n",
        "La traducción que tienes que completar es:\n",
        "(PISTA: faltan cosas donde encuentres ... , aunque faltan más cosas que las indicadas):"
      ],
      "metadata": {
        "id": "QSkwvGk-HZAJ"
      }
    },
    {
      "cell_type": "code",
      "source": [
        "'''\n",
        "FECHA: 18/09/2025\n",
        "AUTOR: Bruce Thomson\n",
        "DESCRIPCIÓN:\n",
        "Dada una letra mayúscula calcula cuál es su posición en el\n",
        "alfabeto\n",
        "ENTRADAS: letra (la letra mayúscula)\n",
        "SALIDAS: posición (la posición en el alfabeto)\n",
        "ERRORES:El programa es incorrecto si la letra no es una mayúscula\n",
        "\n",
        "'''\n",
        "#Pide al usuario que ingrese una letra mayuscula\n",
        "while True:\n",
        "  letra = input(\"Introduce una letra mayúscula: \")\n",
        "  if len(letra) == 1 and \"A\" <= letra <= \"Z\":\n",
        "    break\n",
        "  print(\"Entrada no válida. Debe ser una letra mayúscula.\")\n",
        "\n",
        "posicion = ord(letra) - ord('A') + 1\n",
        "print(\"La posición de la letra \" + letra + \" es: \" + str(posicion))"
      ],
      "metadata": {
        "id": "Kx7HTARXBn3G",
        "colab": {
          "base_uri": "https://localhost:8080/"
        },
        "outputId": "d0060dbb-370d-4ccf-b50c-dbd95b598399"
      },
      "execution_count": 3,
      "outputs": [
        {
          "output_type": "stream",
          "name": "stdout",
          "text": [
            "Introduce una letra mayúscula: A\n",
            "La posición de la letra A es: 1\n"
          ]
        }
      ]
    },
    {
      "cell_type": "markdown",
      "source": [
        "Completa el programa, guardálo y ejecútalo.\n",
        "\n",
        "### Segundo programa\n",
        "\n",
        "Traduce el siguiente algoritmo. Su propósito es convertir una cantidad positiva de segundos a su equivalente en horas, minutos y segundos.\n",
        "\n",
        "\n",
        "**Entradas:** un número de segundos (cantidad ≥ 0)\n",
        "\n",
        "**Salidas:** número de horas (h), minutos (m) y segundos (s), debe cumplirse que cantidad = 3600*h + 60*m + s y además 0 ≤ m < 60 y 0 ≤ s < 60)\n",
        "\n",
        "**Algoritmo** Convertir horas minutos segundos\n",
        "\n",
        "**variables**\n",
        "\n",
        "entero cantidad\n",
        "\n",
        "entero h, m, s\n",
        "\n",
        "entero auxiliar\n",
        "\n",
        "**principio**\n",
        "\n",
        "leer(cantidad)\n",
        "\n",
        "h = cantidad div 3600\n",
        "\n",
        "auxiliar = cantidad mod 3600\n",
        "\n",
        "m = auxiliar div 60\n",
        "\n",
        "s = auxiliar mod 60\n",
        "\n",
        "escribir(h, m, s)\n",
        "\n",
        "**fin**\n",
        "\n",
        "\n",
        "Edita el programa, guárdalo y ejecútalo.\n",
        "\n",
        "## Corrige programas con errores\n",
        "\n",
        "Con este ejercicio repasarás:\n",
        "* Cómo traducir a Python un programa escrito en seudocódigo.\n",
        "* Cómo recuperar, grabar y ejecutar un programa.\n",
        "* Cómo utilizar los problemas de ejecución para corregir errores en los programas.\n",
        "\n",
        "Esta serie de programas contienen errores. El objetivo del ejercicio es que los encuentres y los corrijas. Es aconsejable que intentes detectarlos por simple inspección. Si no lo consigues puedes ejecutarlos y revisar los errores que aparecen en el cuaderno. Encontrarás unos cuantos errores bastante comunes. Sería aconsejable que los recordases para no cometerlos en el futuro. Hay errores léxicos, sintácticos e incluso puede que falten o sobren cosas.\n",
        "\n",
        "### Primer programa"
      ],
      "metadata": {
        "id": "JBFL87GmJJY-"
      }
    },
    {
      "cell_type": "code",
      "source": [
        "'''\n",
        "FECHA:\n",
        "AUTOR:\n",
        "DESCRIPCIÓN:\n",
        "Dada una letra minúscula escribe su mayúscula correspondiente\n",
        "ENTRADAS: minus (la letra minúscula)\n",
        "SALIDAS: mayus (la letra mayúscula resultante)\n",
        "ERRORES:\n",
        "El programa es incorrecto si minus no es una minúscula\n",
        "'''\n",
        "\n",
        "\n",
        "caracter minus, mayus\n",
        "minus = input();\n",
        "mayus := chr(ord(minus) - ord(a) + ord(A));\n",
        "print( mayus)"
      ],
      "metadata": {
        "id": "dsMgNIOYLunm"
      },
      "execution_count": null,
      "outputs": []
    },
    {
      "cell_type": "markdown",
      "source": [
        "### Segundo programa"
      ],
      "metadata": {
        "id": "sbo-mUvFMmkO"
      }
    },
    {
      "cell_type": "code",
      "source": [
        "'''\n",
        "FECHA:\n",
        "AUTOR:\n",
        "DESCRIPCIÓN:\n",
        "Calcula la velocidad en m/s de un corredor de una carrera de 1500 m.,\n",
        "conocido el tiempo que tarda en realizar la prueba.\n",
        "ENTRADAS: minutos, cantidad de minutos invertidos por el corredor\n",
        "segundos, cantidad de segundos invertidos por el corredor\n",
        "SALIDAS: velocidad, ser velocidad = 1500/(60*minutos+segundos)\n",
        "ERRORES:\n",
        "El programa es incorrecto si minutos y segundos no son positivos\n",
        "'''\n",
        "int minutos, segundos\n",
        "\n",
        "DISTANCIA = 1500\n",
        "minutos = input()\n",
        "segundos = input()\n",
        "velocidad := 1500/(60*minutos + segundos)\n",
        "print(velocidad)"
      ],
      "metadata": {
        "id": "AShL6ZY_MhUX"
      },
      "execution_count": null,
      "outputs": []
    },
    {
      "cell_type": "markdown",
      "source": [
        "### Tercer programa"
      ],
      "metadata": {
        "id": "xqLXeSulNKTU"
      }
    },
    {
      "cell_type": "code",
      "source": [
        "'''\n",
        "FECHA:\n",
        "AUTOR:\n",
        "DESCRIPCIÓN:\n",
        "Convierte una distancia dada en pies a su equivalente en yardas,\n",
        "pulgadas, centímetros y metros.\n",
        "ENTRADAS: pies, distancia medida en pies\n",
        "SALIDAS: yardas, pulgadas, centímetros, metros = distancia medida en\n",
        "esas unidades\n",
        "ERRORES:\n",
        "El programa es incorrecto si pies es negativo\n",
        "'''\n",
        "\n",
        "yardas = pies /3.0\n",
        "pulgadas = = pies * 12.0\n",
        "centimetros = 2'54 * pulgadas\n",
        "metros = centimetros /100\n",
        "\n"
      ],
      "metadata": {
        "id": "-to7koXbNH3e"
      },
      "execution_count": null,
      "outputs": []
    },
    {
      "cell_type": "markdown",
      "source": [
        "## Realización de programas\n",
        "\n",
        "\n",
        "1.   Programa que lea un número entero de dos cifras y cree otro con esas cifras invertidas. Ejemplo, si introducimos 45 debería generar el 54.\n",
        "2.   Programa que descodifique la fecha expresada como un entero de 6 dígitos (DDMMAA), es decir, el año viene representado en las unidades y decenas, el mes en las centenas y millares y el día en las decenas y centenas de millar. Ejemplo: para una entrada como 120322 debe mostrar en pantalla 12-3-2022.\n",
        "\n"
      ],
      "metadata": {
        "id": "2V69ZyqFNnLL"
      }
    },
    {
      "cell_type": "code",
      "source": [],
      "metadata": {
        "id": "6wy0OwY0Na5P"
      },
      "execution_count": null,
      "outputs": []
    }
  ]
}